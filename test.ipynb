{
 "cells": [
  {
   "cell_type": "code",
   "execution_count": 19,
   "id": "initial_id",
   "metadata": {
    "collapsed": true,
    "ExecuteTime": {
     "end_time": "2024-03-17T15:40:22.876556660Z",
     "start_time": "2024-03-17T15:40:22.872567974Z"
    }
   },
   "outputs": [],
   "source": [
    "import requests\n",
    "from minio import Minio\n",
    "from minio.error import S3Error"
   ]
  },
  {
   "cell_type": "code",
   "execution_count": 22,
   "outputs": [],
   "source": [
    "client = Minio(\n",
    "    \"172.20.0.3:9000\",\n",
    "    access_key=\"admin\",\n",
    "    secret_key=\"password\",\n",
    "    secure=False\n",
    ")"
   ],
   "metadata": {
    "collapsed": false,
    "ExecuteTime": {
     "end_time": "2024-03-17T15:41:31.929952908Z",
     "start_time": "2024-03-17T15:41:31.926857557Z"
    }
   },
   "id": "5862720cee18aa"
  },
  {
   "cell_type": "code",
   "execution_count": 23,
   "outputs": [],
   "source": [
    "# Make a bucket with the make_bucket API call.\n",
    "try:\n",
    "    client.make_bucket(\"testbucket\")\n",
    "except S3Error as err:\n",
    "    print(err)"
   ],
   "metadata": {
    "collapsed": false,
    "ExecuteTime": {
     "end_time": "2024-03-17T15:41:33.707007737Z",
     "start_time": "2024-03-17T15:41:33.675052992Z"
    }
   },
   "id": "be04d4f4c880992c"
  },
  {
   "cell_type": "code",
   "execution_count": 24,
   "outputs": [],
   "source": [
    "#Put \"empty_file\" object to \"testbucket\" bucket\n",
    "try:\n",
    "    client.fput_object(\"testbucket\", \"empty_file\", \"empty_file\")\n",
    "except S3Error as err:\n",
    "    print(err)"
   ],
   "metadata": {
    "collapsed": false,
    "ExecuteTime": {
     "end_time": "2024-03-17T15:41:36.933199162Z",
     "start_time": "2024-03-17T15:41:36.915499163Z"
    }
   },
   "id": "b44449be8bac8a3b"
  },
  {
   "cell_type": "code",
   "execution_count": 26,
   "outputs": [],
   "source": [
    "#remove \"empty_file\" object from \"testbucket\" bucket\n",
    "try:\n",
    "    client.remove_object(\"testbucket\", \"empty_file\")\n",
    "except S3Error as err:\n",
    "    print(err)"
   ],
   "metadata": {
    "collapsed": false,
    "ExecuteTime": {
     "end_time": "2024-03-17T15:41:59.477681385Z",
     "start_time": "2024-03-17T15:41:59.466417508Z"
    }
   },
   "id": "8e37ba9fab496e8b"
  },
  {
   "cell_type": "code",
   "execution_count": 27,
   "outputs": [],
   "source": [
    "#remove \"testbucket\" bucket\n",
    "try:\n",
    "    client.remove_bucket(\"testbucket\")\n",
    "except S3Error as err:\n",
    "    print(err)"
   ],
   "metadata": {
    "collapsed": false,
    "ExecuteTime": {
     "end_time": "2024-03-17T15:42:01.254580609Z",
     "start_time": "2024-03-17T15:42:01.245815780Z"
    }
   },
   "id": "482a5a18228cd743"
  }
 ],
 "metadata": {
  "kernelspec": {
   "display_name": "Python 3",
   "language": "python",
   "name": "python3"
  },
  "language_info": {
   "codemirror_mode": {
    "name": "ipython",
    "version": 2
   },
   "file_extension": ".py",
   "mimetype": "text/x-python",
   "name": "python",
   "nbconvert_exporter": "python",
   "pygments_lexer": "ipython2",
   "version": "2.7.6"
  }
 },
 "nbformat": 4,
 "nbformat_minor": 5
}
